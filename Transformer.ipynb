{
  "cells": [
    {
      "cell_type": "markdown",
      "metadata": {
        "id": "423PvDTWwFQJ"
      },
      "source": [
        "# 1. Embedding\n",
        "\n",
        "<img src=\"https://nlpinkorean.github.io/images/transformer/transformer_positional_encoding_vectors.png\" width=\"50%\" align=\"center\">\n",
        "\n",
        "- 트랜스포머의 입력에서 제일 처음 거치는 Embedding 부분\n",
        "- 위 그림처럼, 모델에 입력되는 최종 embedding은 다음의 2가지 embedding을 더하는 방식으로 만들어짐\n",
        "    - Input Embedding: 단어를 벡터로 표현하는 embedding\n",
        "    - Positional Embedding: 문장에 각 단어의 순서를 알려주는 embedding"
      ]
    },
    {
      "cell_type": "code",
      "execution_count": 11,
      "metadata": {
        "colab": {
          "base_uri": "https://localhost:8080/"
        },
        "id": "4ZjNXTsTv8EZ",
        "outputId": "5456e56b-9ce4-4ec0-d0ad-74ca0455f2e3"
      },
      "outputs": [
        {
          "name": "stdout",
          "output_type": "stream",
          "text": [
            "torch.Size([2, 64])\n"
          ]
        }
      ],
      "source": [
        "import torch\n",
        "import torch.nn as nn\n",
        "\n",
        "random_seed = 0\n",
        "torch.manual_seed(random_seed)\n",
        "torch.cuda.manual_seed(random_seed)\n",
        "torch.cuda.manual_seed_all(random_seed)\n",
        "# 8개의 단어로 이루어진 2개의 문장이 있다고 가정\n",
        "# inp = torch.tensor(\n",
        "#     [[3091, 3604,  206, 3958, 3760, 3590,    0,    0],\n",
        "#      [ 212, 3605,   53, 3832, 3596, 3682, 3760, 3590]], dtype=torch.long)\n",
        "# print(inp.shape)\n",
        "\n",
        "# 64개의 단어로 이루어진 2개의 문장이 있다고 가정\n",
        "inp = torch.randint(10000, (2, 64)).type(torch.long)\n",
        "print(inp.shape)"
      ]
    },
    {
      "cell_type": "markdown",
      "metadata": {
        "id": "0oiOwz18CAdK"
      },
      "source": [
        "## 1.1 Input Embedding\n",
        "\n",
        "- 일반적으로 사용하는 `torch.nn.Embedding`을 통해 구현\n",
        "  \n",
        "![input](image/inputembedding.png)\n",
        "  "
      ]
    },
    {
      "cell_type": "code",
      "execution_count": 12,
      "metadata": {
        "colab": {
          "base_uri": "https://localhost:8080/"
        },
        "id": "JKndm7P2wIRK",
        "outputId": "2ebe3979-ee9b-4a45-fc9a-5d9a6776b159"
      },
      "outputs": [
        {
          "name": "stdout",
          "output_type": "stream",
          "text": [
            "torch.Size([2, 64, 512])\n"
          ]
        }
      ],
      "source": [
        "# 단어사전 크기\n",
        "n_vocab = 10000\n",
        "\n",
        "# Embedding vector의 차원\n",
        "d_model = 512\n",
        "\n",
        "inp_embed_layer = nn.Embedding(n_vocab, d_model, padding_idx=0)\n",
        "\n",
        "inp_embedding = inp_embed_layer(inp)\n",
        "print(inp_embedding.size())"
      ]
    },
    {
      "cell_type": "markdown",
      "metadata": {
        "id": "OLQn04d0xKMP"
      },
      "source": [
        "## 1.2 Positional Encoding\n",
        "\n",
        "$$PE_{(pos, 2i)} = sin(pos/10000^{2i/d_{\\text{model}}})$$\n",
        "$$PE_{(pos, 2i+1)} = cos(pos/10000^{2i/d_{\\text{model}}})$$\n",
        "\n",
        "\n",
        "- 논문에 나온 위의 2개 식에 따라 값을 구한다.\n",
        "- $d_{model}$ : embedding vector의 차원\n",
        "- $i$ : \bembedding에서 dimension 위치를 나타내며, 짝수($2i$)에는 sin 값을 계산하고 홀수($2i + 1$)에는 cos값을 계산한다.\n",
        "    - $d_{model}$이 512라면 $i$는 0~255사이의 값이 되고, 각각 sin, cos를 구해 총 512개의 값을 구할 수 있다.\n",
        "- $pos$ : sequence에 있는 각 word의 위치\n",
        "- [참고 링크](https://datascience.stackexchange.com/questions/51065/what-is-the-positional-encoding-in-the-transformer-model)의 vote많은 2번째 답변 참고하기\n",
        "\n",
        "![input](image/position.png)\n"
      ]
    },
    {
      "cell_type": "code",
      "execution_count": 13,
      "metadata": {
        "id": "zFIC8x4x6GEE"
      },
      "outputs": [],
      "source": [
        "import numpy as np\n",
        "\n",
        "# Positional encoding을 가져오는 함수\n",
        "def get_pos_encoding(len_seq, d_model):\n",
        "    # 결과를 담을 행렬 생성\n",
        "    result_mat = np.zeros((len_seq, d_model))\n",
        "\n",
        "    # pos와 나눌 분모 값 계산\n",
        "    angle_div = [np.power(10000, ((2 * i) / d_model)) for i in range(d_model // 2)]\n",
        "\n",
        "    # pos를 iterate하며 sine, cosine 값 계산\n",
        "    for pos in range(len_seq):\n",
        "        pe_sin = [np.sin(pos / div) for div in angle_div]\n",
        "        pe_cos = [np.cos(pos / div) for div in angle_div]\n",
        "\n",
        "        # 결과 행렬에 저장\n",
        "        result_mat[pos, 0::2] = pe_sin # 0, 2, 4, ... (짝수)\n",
        "        result_mat[pos, 1::2] = pe_cos # 1, 3, 5, ... (홀수)\n",
        "    \n",
        "    return result_mat"
      ]
    },
    {
      "cell_type": "code",
      "execution_count": 14,
      "metadata": {
        "colab": {
          "base_uri": "https://localhost:8080/",
          "height": 301
        },
        "id": "Kx2G-8RvfzNq",
        "outputId": "8115c625-1833-4668-b479-d568d9e40360"
      },
      "outputs": [
        {
          "name": "stdout",
          "output_type": "stream",
          "text": [
            "(64, 512)\n"
          ]
        },
        {
          "data": {
            "image/png": "[encoded data removed]",
            "text/plain": [
              "<Figure size 432x288 with 2 Axes>"
            ]
          },
          "metadata": {
            "needs_background": "light"
          },
          "output_type": "display_data"
        }
      ],
      "source": [
        "import matplotlib.pyplot as plt\n",
        "\n",
        "# 한 문장이 64개의 단어로 이루어지고, 각 단어는 512 차원의 임베딩벡터로 이루어질 경우 (논문의 예)\n",
        "mat = get_pos_encoding(len_seq=64, d_model=512)\n",
        "print(mat.shape)\n",
        "\n",
        "plt.pcolormesh(mat, cmap=\"RdBu\")\n",
        "plt.xlabel(\"Depth\")\n",
        "plt.xlim((0, 512))\n",
        "plt.ylabel(\"Position\")\n",
        "plt.colorbar()\n",
        "plt.show()"
      ]
    },
    {
      "cell_type": "code",
      "execution_count": 15,
      "metadata": {
        "colab": {
          "base_uri": "https://localhost:8080/",
          "height": 301
        },
        "id": "al6D8He1gaXO",
        "outputId": "9bfa6670-1feb-4407-fbd0-d25e7fa0a618"
      },
      "outputs": [
        {
          "name": "stdout",
          "output_type": "stream",
          "text": [
            "(8, 512)\n"
          ]
        },
        {
          "data": {
            "image/png": "[encoded data removed]",
            "text/plain": [
              "<Figure size 432x288 with 2 Axes>"
            ]
          },
          "metadata": {
            "needs_background": "light"
          },
          "output_type": "display_data"
        }
      ],
      "source": [
        "# 여기서 예시로 간단히 사용한 8개의 단어로 이루어지고, 각 단어는 512 차원의 임베딩벡터로 이루어질 경우\n",
        "mat = get_pos_encoding(len_seq=8, d_model=512)\n",
        "print(mat.shape)\n",
        "\n",
        "plt.pcolormesh(mat, cmap=\"RdBu\")\n",
        "plt.xlabel(\"Depth\")\n",
        "plt.xlim((0, 128))\n",
        "plt.ylabel(\"Position\")\n",
        "plt.colorbar()\n",
        "plt.show()"
      ]
    },
    {
      "cell_type": "markdown",
      "metadata": {
        "id": "S_53Y5J5E5kx"
      },
      "source": [
        "## 1.3 Input Embedding + Positional Encoding\n",
        "\n",
        "- 앞서 구한 input embedding과 positional encoding 값을 더해서 모델에 입력으로 들어갈 벡터를 생성\n",
        "\n",
        "![inputplus.png](image/inputplus.png)"
      ]
    },
    {
      "cell_type": "code",
      "execution_count": 18,
      "metadata": {
        "colab": {
          "base_uri": "https://localhost:8080/"
        },
        "id": "537ieMc8hu2M",
        "outputId": "af3cb079-b7ec-4a44-bb2e-679971cf1034"
      },
      "outputs": [
        {
          "name": "stdout",
          "output_type": "stream",
          "text": [
            "torch.Size([64, 128])\n"
          ]
        }
      ],
      "source": [
        "# 먼저, positional encoding을 계산\n",
        "pos_encoding = get_pos_encoding(64, 128)\n",
        "pos_encoding = torch.FloatTensor(pos_encoding)\n",
        "print(pos_encoding.size())"
      ]
    },
    {
      "cell_type": "code",
      "execution_count": 19,
      "metadata": {
        "colab": {
          "base_uri": "https://localhost:8080/"
        },
        "id": "xix0ZtjX0Ujl",
        "outputId": "3b9816b7-7078-41de-e6eb-47a09f14b91d"
      },
      "outputs": [
        {
          "name": "stdout",
          "output_type": "stream",
          "text": [
            "tensor([[ 0,  1,  2,  3,  4,  5,  6,  7,  8,  9, 10, 11, 12, 13, 14, 15, 16, 17,\n",
            "         18, 19, 20, 21, 22, 23, 24, 25, 26, 27, 28, 29, 30, 31, 32, 33, 34, 35,\n",
            "         36, 37, 38, 39, 40, 41, 42, 43, 44, 45, 46, 47, 48, 49, 50, 51, 52, 53,\n",
            "         54, 55, 56, 57, 58, 59, 60, 61, 62, 63],\n",
            "        [ 0,  1,  2,  3,  4,  5,  6,  7,  8,  9, 10, 11, 12, 13, 14, 15, 16, 17,\n",
            "         18, 19, 20, 21, 22, 23, 24, 25, 26, 27, 28, 29, 30, 31, 32, 33, 34, 35,\n",
            "         36, 37, 38, 39, 40, 41, 42, 43, 44, 45, 46, 47, 48, 49, 50, 51, 52, 53,\n",
            "         54, 55, 56, 57, 58, 59, 60, 61, 62, 63]])\n",
            "torch.Size([2, 64, 128])\n"
          ]
        }
      ],
      "source": [
        "# 앞서 구한 positional encoding으로 embedidng layer를 초기화하고 freeze\n",
        "pos_embed_layer = nn.Embedding.from_pretrained(pos_encoding, freeze=True)\n",
        "\n",
        "# pos_embed_layer에서 값을 꺼내오기 위한 position sequence 생성\n",
        "positions = torch.arange(inp.size(1)).expand(inp.size(0), inp.size(1))\n",
        "print(positions)\n",
        "\n",
        "# input embedding과 더해줄 positional embedding 생성\n",
        "pos_embedding = pos_embed_layer(positions)\n",
        "print(pos_embedding.size())"
      ]
    },
    {
      "cell_type": "markdown",
      "metadata": {
        "id": "XjjwpGUhueFv"
      },
      "source": [
        "### 총정리 : 입력에서 input emb + positional emb = final emb까지"
      ]
    },
    {
      "cell_type": "code",
      "execution_count": 20,
      "metadata": {
        "id": "5iVrOfucuUQ1"
      },
      "outputs": [],
      "source": [
        "# inp = torch.LongTensor(\n",
        "#     [[3091, 3604,  206, 3958, 3760, 3590,    0,    0],\n",
        "#      [ 212, 3605,   53, 3832, 3596, 3682, 3760, 3590]])\n",
        "# print(inp.size())"
      ]
    },
    {
      "cell_type": "code",
      "execution_count": 21,
      "metadata": {
        "colab": {
          "base_uri": "https://localhost:8080/"
        },
        "id": "u_TkcU2lumdg",
        "outputId": "e897bc42-9c50-4bec-ceb7-02ad62b4d4a1"
      },
      "outputs": [
        {
          "name": "stdout",
          "output_type": "stream",
          "text": [
            "Embedding(10000, 512, padding_idx=0)\n",
            "Embedding(64, 512)\n",
            "False\n"
          ]
        }
      ],
      "source": [
        "n_vocab = 10000\n",
        "d_model = 512\n",
        "max_len_seq = inp.size(1) # 8\n",
        "\n",
        "inp_embed_layer = nn.Embedding(n_vocab, d_model, padding_idx=0)\n",
        "pos_embed_layer = nn.Embedding.from_pretrained(torch.FloatTensor(get_pos_encoding(max_len_seq, d_model)),\n",
        "                                               freeze=True)\n",
        "\n",
        "print(inp_embed_layer)\n",
        "print(pos_embed_layer)\n",
        "print(pos_embed_layer.weight.requires_grad)"
      ]
    },
    {
      "cell_type": "code",
      "execution_count": 22,
      "metadata": {
        "colab": {
          "base_uri": "https://localhost:8080/"
        },
        "id": "TlYshdtRvLNi",
        "outputId": "c93e7449-0778-43ce-8f28-7208d1a5c7ae"
      },
      "outputs": [
        {
          "name": "stdout",
          "output_type": "stream",
          "text": [
            "torch.Size([2, 64, 512])\n"
          ]
        }
      ],
      "source": [
        "inp_embedding = inp_embed_layer(inp)\n",
        "print(inp_embedding.size())"
      ]
    },
    {
      "cell_type": "code",
      "execution_count": 23,
      "metadata": {
        "colab": {
          "base_uri": "https://localhost:8080/"
        },
        "id": "BbHcfqVywDp3",
        "outputId": "ae308d1b-11f2-431c-ffe8-ba4a0df0a554"
      },
      "outputs": [
        {
          "name": "stdout",
          "output_type": "stream",
          "text": [
            "torch.Size([2, 64, 512])\n"
          ]
        }
      ],
      "source": [
        "positions = torch.arange(inp.size(1)).expand(inp.size(0), inp.size(1))\n",
        "pos_embedding = pos_embed_layer(positions)\n",
        "print(pos_embedding.size())"
      ]
    },
    {
      "cell_type": "code",
      "execution_count": 24,
      "metadata": {
        "colab": {
          "base_uri": "https://localhost:8080/"
        },
        "id": "5EJBxr0SmrPM",
        "outputId": "0feeae48-f149-4069-e4e2-5c5f2571b231"
      },
      "outputs": [
        {
          "name": "stdout",
          "output_type": "stream",
          "text": [
            "torch.Size([2, 64, 512])\n"
          ]
        }
      ],
      "source": [
        "final_embedding = inp_embedding + pos_embedding\n",
        "print(final_embedding.shape)"
      ]
    },
    {
      "cell_type": "markdown",
      "metadata": {
        "id": "ht_O03Rmzcoa"
      },
      "source": [
        "# 2. Multi-head Attention\n",
        "\n",
        "<img src=\"https://nlpinkorean.github.io/images/transformer/self-attention-matrix-calculation.png\" width=\"30%\">\n",
        "\n",
        "<img src=\"https://nlpinkorean.github.io/images/transformer/self-attention-matrix-calculation-2.png\" width=\"30%\">\n",
        "\n",
        "<img src=\"https://paul-hyun.github.io/assets/2019-12-19/scale_dot_product_attention.png\" width=\"50%\">\n",
        "\n",
        "- 트랜스포머의 self-attention에서 사용되는 어텐션 연산\n",
        "- Self attention이므로, X가 모두 동일"
      ]
    },
    {
      "cell_type": "code",
      "execution_count": 13,
      "metadata": {
        "id": "9PL9P33fgBuH"
      },
      "outputs": [],
      "source": [
        "class MultiHeadAttention(nn.Module):\n",
        "    def __init__(self, d_model, n_head):\n",
        "        super().__init__()\n",
        "        \n",
        "        # attention head 갯수\n",
        "        self.n_head = n_head\n",
        "\n",
        "        # 각 head당 차원\n",
        "        self.d_head = d_model // n_head\n",
        "\n",
        "        self.query_dense = nn.Linear(d_model, d_model)\n",
        "        self.key_dense   = nn.Linear(d_model, d_model)\n",
        "        self.value_dense = nn.Linear(d_model, d_model)\n",
        "\n",
        "        self.softmax = nn.Softmax(dim=-1)\n",
        "        self.linear = nn.Linear(d_model, d_model)\n",
        "\n",
        "    def forward(self, Q, K, V):\n",
        "\n",
        "        # 1. WQ, WK, WV에 해당하는 밀집층 지나기\n",
        "        # Q, K, V 생성\n",
        "        # (batch_size, 문장 길이, num_heads * d_head)\n",
        "        Q = self.query_dense(Q)\n",
        "        K = self.key_dense(K)\n",
        "        V = self.value_dense(V)\n",
        "\n",
        "        # 2. 헤드 나누기\n",
        "        # Q, K, V를 각 attention head로 분리\n",
        "        # (batch_size, num_head, 문장 길이, d_model/num_heads)\n",
        "        Q = Q.view(Q.size(0), -1, self.n_head, self.d_head).permute(0, 2, 1, 3)\n",
        "        K = K.view(K.size(0), -1, self.n_head, self.d_head).permute(0, 2, 1, 3)\n",
        "        V = V.view(V.size(0), -1, self.n_head, self.d_head).permute(0, 2, 1, 3)\n",
        "\n",
        "        # 3. 스케일드 닷 프로덕트 어텐션. \n",
        "        Z = torch.matmul(Q, K.permute(0, 1, 3, 2)) / torch.sqrt(torch.FloatTensor([self.d_head]))\n",
        "        Z = torch.matmul(self.softmax(Z), V)\n",
        "\n",
        "        # (batch_size, 문장 길이, num_heads, d_model/num_heads = d_head)\n",
        "        Z = Z.permute(0, 2, 1, 3).contiguous()\n",
        "\n",
        "        # 4. 헤드 연결하기\n",
        "        # (batch_size, 문장 길이, num_heads * d_head)\n",
        "        Z = Z.view(Z.size(0), -1, self.d_head * self.n_head)\n",
        "\n",
        "        out = self.linear(Z)\n",
        "\n",
        "        return out"
      ]
    },
    {
      "cell_type": "code",
      "execution_count": 14,
      "metadata": {
        "colab": {
          "base_uri": "https://localhost:8080/"
        },
        "id": "VFVhNpYYg5MQ",
        "outputId": "fd25376c-3b61-40de-c50a-449f47af05a2"
      },
      "outputs": [
        {
          "name": "stdout",
          "output_type": "stream",
          "text": [
            "torch.Size([2, 64, 512])\n",
            "torch.Size([2, 64, 512])\n"
          ]
        }
      ],
      "source": [
        "# 앞에서 계산한 최종 임베딩이 입력이라고 가정\n",
        "X = final_embedding\n",
        "print(X.size())\n",
        "\n",
        "att = MultiHeadAttention(d_model=512, n_head=8)\n",
        "out = att(X, X, X)\n",
        "print(out.size())"
      ]
    },
    {
      "cell_type": "code",
      "execution_count": 14,
      "metadata": {
        "id": "D_VMj3NDiG5i"
      },
      "outputs": [],
      "source": []
    }
  ],
  "metadata": {
    "colab": {
      "collapsed_sections": [],
      "name": "Transformer.ipynb",
      "provenance": []
    },
    "kernelspec": {
      "display_name": "Python 3",
      "name": "python3"
    },
    "language_info": {
      "codemirror_mode": {
        "name": "ipython",
        "version": 3
      },
      "file_extension": ".py",
      "mimetype": "text/x-python",
      "name": "python",
      "nbconvert_exporter": "python",
      "pygments_lexer": "ipython3",
      "version": "3.8.0"
    }
  },
  "nbformat": 4,
  "nbformat_minor": 0
}
